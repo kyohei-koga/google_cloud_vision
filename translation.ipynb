{
 "cells": [
  {
   "cell_type": "code",
   "execution_count": 2,
   "metadata": {},
   "outputs": [
    {
     "name": "stdout",
     "output_type": "stream",
     "text": [
      "env: GOOGLE_APPLICATION_CREDENTIALS=/home/kyohei/ダウンロード/My Project 50734-af4f4037e89b.json\n"
     ]
    }
   ],
   "source": [
    "# 環境変数を設定\n",
    "# 認証情報の入っているjsonファイルを指定する。\n",
    "%env GOOGLE_APPLICATION_CREDENTIALS=/home/kyohei/ダウンロード/My Project 50734-af4f4037e89b.json"
   ]
  },
  {
   "cell_type": "code",
   "execution_count": 5,
   "metadata": {},
   "outputs": [
    {
     "name": "stdout",
     "output_type": "stream",
     "text": [
      "text: 私転職する事になりました。データサイエンティストとしてこれからがんばります\n",
      "Translation: I will change my job. I will do my best as a data scientist\n"
     ]
    }
   ],
   "source": [
    "from google.cloud import translate\n",
    "\n",
    "# クライアントインスタンスの作成\n",
    "translate_client = translate.Client()\n",
    "# 翻訳したい文章\n",
    "text = u'私転職する事になりました。データサイエンティストとしてこれからがんばります'\n",
    "# 翻訳先言語\n",
    "target = 'en'\n",
    "\n",
    "# API実行\n",
    "translation = translate_client.translate(\n",
    "    text,\n",
    "    target_language=target)\n",
    "\n",
    "print('text: {}'.format(text))\n",
    "print('Translation: {}'.format(translation['translatedText']))"
   ]
  },
  {
   "cell_type": "code",
   "execution_count": 6,
   "metadata": {},
   "outputs": [
    {
     "data": {
      "text/plain": [
       "{'translatedText': 'I will change my job. I will do my best as a data scientist',\n",
       " 'detectedSourceLanguage': 'ja',\n",
       " 'input': '私転職する事になりました。データサイエンティストとしてこれからがんばります'}"
      ]
     },
     "execution_count": 6,
     "metadata": {},
     "output_type": "execute_result"
    }
   ],
   "source": [
    "translation"
   ]
  },
  {
   "cell_type": "code",
   "execution_count": null,
   "metadata": {},
   "outputs": [],
   "source": []
  }
 ],
 "metadata": {
  "kernelspec": {
   "display_name": "Python 3",
   "language": "python",
   "name": "python3"
  },
  "language_info": {
   "codemirror_mode": {
    "name": "ipython",
    "version": 3
   },
   "file_extension": ".py",
   "mimetype": "text/x-python",
   "name": "python",
   "nbconvert_exporter": "python",
   "pygments_lexer": "ipython3",
   "version": "3.6.8"
  }
 },
 "nbformat": 4,
 "nbformat_minor": 2
}
