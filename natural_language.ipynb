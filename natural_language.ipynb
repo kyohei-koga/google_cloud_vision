{
 "cells": [
  {
   "cell_type": "markdown",
   "metadata": {},
   "source": [
    "参考URL1:https://cloud.google.com/natural-language/docs/reference/rest/v1beta2/documents/analyzeEntities?hl=ja\n",
    "\n",
    "参考URL2:https://to-kei.net/python/google-natural-language-api/"
   ]
  },
  {
   "cell_type": "code",
   "execution_count": 1,
   "metadata": {},
   "outputs": [],
   "source": [
    "import os\n",
    "import requests\n",
    "import json\n",
    "import dotenv\n",
    "from base64 import b64encode"
   ]
  },
  {
   "cell_type": "code",
   "execution_count": 2,
   "metadata": {},
   "outputs": [],
   "source": [
    "# .env読み込み\n",
    "dotenv.load_dotenv('./.env')\n",
    "# apikey取得\n",
    "api_key = os.environ.get('API_KEY')"
   ]
  },
  {
   "cell_type": "code",
   "execution_count": 17,
   "metadata": {},
   "outputs": [],
   "source": [
    "# エンティティ分析\n",
    "endpoint_url = 'https://language.googleapis.com/v1beta2/documents:analyzeEntities'\n",
    "\n",
    "# 入力\n",
    "text = '私の出身大学は早稲田大学で、西早稲田駅にあります。研究室は63号館でした。'\n",
    "\n",
    "text_requests = {\n",
    "    'document': {\n",
    "        'type': 'PLAIN_TEXT',\n",
    "        'language': 'JA',\n",
    "        'content': text\n",
    "    },\n",
    "    'encodingType': 'UTF8'\n",
    "}"
   ]
  },
  {
   "cell_type": "code",
   "execution_count": 18,
   "metadata": {},
   "outputs": [],
   "source": [
    "# リクエスト送信\n",
    "response = requests.post(endpoint_url,\n",
    "                         json=text_requests,\n",
    "                         params={'key': api_key},\n",
    "                         headers={'Content-Type': 'application/json'})"
   ]
  },
  {
   "cell_type": "code",
   "execution_count": 27,
   "metadata": {},
   "outputs": [
    {
     "name": "stdout",
     "output_type": "stream",
     "text": [
      "====================\n",
      "単語: 出身大学\n",
      "種類: ORGANIZATION\n",
      "メタデータ: {}\n",
      "重要度: 0.31092095\n",
      "====================\n",
      "単語: 早稲田大学\n",
      "種類: ORGANIZATION\n",
      "メタデータ: {'mid': '/m/0212zp', 'wikipedia_url': 'https://en.wikipedia.org/wiki/Waseda_University'}\n",
      "重要度: 0.30067492\n",
      "====================\n",
      "単語: 西早稲田駅\n",
      "種類: LOCATION\n",
      "メタデータ: {'wikipedia_url': 'https://en.wikipedia.org/wiki/Nishi-waseda_Station', 'mid': '/m/043r0fx'}\n",
      "重要度: 0.26433697\n",
      "====================\n",
      "単語: 研究室\n",
      "種類: ORGANIZATION\n",
      "メタデータ: {}\n",
      "重要度: 0.12406715\n",
      "====================\n",
      "単語: 63\n",
      "種類: NUMBER\n",
      "メタデータ: {'value': '63'}\n",
      "重要度: 0\n"
     ]
    }
   ],
   "source": [
    "for row in response.json()['entities']:\n",
    "    print('='*20)\n",
    "    print('単語: {}'.format(row['name']))\n",
    "    print('種類: {}'.format(row['type']))\n",
    "    print('メタデータ: {}'.format(row['metadata']))\n",
    "    print('重要度: {}'.format(row['salience']))"
   ]
  },
  {
   "cell_type": "code",
   "execution_count": 36,
   "metadata": {},
   "outputs": [],
   "source": [
    "# 感情分析\n",
    "endpoint_url = 'https://language.googleapis.com/v1/documents:analyzeSentiment'\n",
    "\n",
    "# 入力\n",
    "text = '昨日退職する事を伝えました。もったいないお言葉をたくさんいただきました。'\n",
    "\n",
    "text_requests = {\n",
    "    'document': {\n",
    "        'type': 'PLAIN_TEXT',\n",
    "        'content': text,\n",
    "        'language': 'ja'\n",
    "    },\n",
    "    'encodingType': 'UTF8'\n",
    "}"
   ]
  },
  {
   "cell_type": "code",
   "execution_count": 37,
   "metadata": {},
   "outputs": [],
   "source": [
    "# リクエスト送信\n",
    "response = requests.post(endpoint_url,\n",
    "                         json=text_requests,\n",
    "                         params={'key': api_key},\n",
    "                         headers={'Content-Type': 'application/json'})"
   ]
  },
  {
   "cell_type": "code",
   "execution_count": 38,
   "metadata": {},
   "outputs": [
    {
     "data": {
      "text/plain": [
       "{'documentSentiment': {'magnitude': 0.8, 'score': 0.4},\n",
       " 'language': 'ja',\n",
       " 'sentences': [{'text': {'content': '昨日退職する事を伝えました。', 'beginOffset': 0},\n",
       "   'sentiment': {'magnitude': 0.2, 'score': 0.2}},\n",
       "  {'text': {'content': 'もったいないお言葉をたくさんいただきました。', 'beginOffset': 42},\n",
       "   'sentiment': {'magnitude': 0.6, 'score': 0.6}}]}"
      ]
     },
     "execution_count": 38,
     "metadata": {},
     "output_type": "execute_result"
    }
   ],
   "source": [
    "response.json()"
   ]
  },
  {
   "cell_type": "code",
   "execution_count": 39,
   "metadata": {},
   "outputs": [
    {
     "data": {
      "text/plain": [
       "{'documentSentiment': {'magnitude': 1.1, 'score': -0.3},\n",
       " 'language': 'ja',\n",
       " 'sentences': [{'text': {'content': 'お前の事は大嫌いだ。', 'beginOffset': 0},\n",
       "   'sentiment': {'magnitude': 0.3, 'score': -0.3}},\n",
       "  {'text': {'content': '顔も見たくない。', 'beginOffset': 30},\n",
       "   'sentiment': {'magnitude': 0.7, 'score': -0.7}},\n",
       "  {'text': {'content': '出ていってくれ。', 'beginOffset': 54},\n",
       "   'sentiment': {'magnitude': 0, 'score': 0}}]}"
      ]
     },
     "execution_count": 39,
     "metadata": {},
     "output_type": "execute_result"
    }
   ],
   "source": [
    "# 例題2\n",
    "text = 'お前の事は大嫌いだ。顔も見たくない。出ていってくれ。'\n",
    "text_requests = {\n",
    "    'document': {\n",
    "        'type': 'PLAIN_TEXT',\n",
    "        'content': text,\n",
    "        'language': 'ja'\n",
    "    },\n",
    "    'encodingType': 'UTF8'\n",
    "}\n",
    "response = requests.post(endpoint_url,\n",
    "                         json=text_requests,\n",
    "                         params={'key': api_key},\n",
    "                         headers={'Content-Type': 'application/json'})\n",
    "response.json()"
   ]
  },
  {
   "cell_type": "code",
   "execution_count": null,
   "metadata": {},
   "outputs": [],
   "source": []
  }
 ],
 "metadata": {
  "kernelspec": {
   "display_name": "Python 3",
   "language": "python",
   "name": "python3"
  },
  "language_info": {
   "codemirror_mode": {
    "name": "ipython",
    "version": 3
   },
   "file_extension": ".py",
   "mimetype": "text/x-python",
   "name": "python",
   "nbconvert_exporter": "python",
   "pygments_lexer": "ipython3",
   "version": "3.6.8"
  }
 },
 "nbformat": 4,
 "nbformat_minor": 2
}
