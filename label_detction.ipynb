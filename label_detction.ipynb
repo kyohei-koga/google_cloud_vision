{
 "cells": [
  {
   "cell_type": "markdown",
   "metadata": {},
   "source": [
    "参考URL: https://qiita.com/jkshr/items/7b4495cd80b40ae1173b"
   ]
  },
  {
   "cell_type": "code",
   "execution_count": 1,
   "metadata": {},
   "outputs": [],
   "source": [
    "from base64 import b64encode\n",
    "from sys import argv\n",
    "import json\n",
    "import requests\n",
    "import os\n",
    "import dotenv\n",
    "import matplotlib.pyplot as plt\n",
    "from PIL import Image\n",
    "import numpy as np\n",
    "%matplotlib inline"
   ]
  },
  {
   "cell_type": "code",
   "execution_count": 2,
   "metadata": {},
   "outputs": [],
   "source": [
    "# envfileの読み込み\n",
    "dotenv.load_dotenv('./.env')\n",
    "# apikeyの取得\n",
    "api = os.environ.get('API_KEY')"
   ]
  },
  {
   "cell_type": "code",
   "execution_count": 3,
   "metadata": {},
   "outputs": [],
   "source": [
    "endpoint_url = 'https://vision.googleapis.com/v1/images:annotate'\n",
    "# 画像ファイルの読み込み\n",
    "f = open('./seagull.jpg', 'rb')\n",
    "ctxt = b64encode(f.read()).decode()\n",
    "\n",
    "img_requests = [{\n",
    "    'image': {'content': ctxt}, # 入力するファイル\n",
    "    'features':[{\n",
    "        'type': 'LABEL_DETECTION', # ラベルの検知を実行\n",
    "        'maxResults': 5 # 検出結果の上位5つ\n",
    "    }]\n",
    "}]"
   ]
  },
  {
   "cell_type": "code",
   "execution_count": 19,
   "metadata": {},
   "outputs": [],
   "source": [
    "# リクエスト送信\n",
    "response = requests.post(endpoint_url,\n",
    "                         data=json.dumps({'requests': img_requests}).encode(), # 画像データをjson形式に変換\n",
    "                         params={'key': api}, # api\n",
    "                         headers={'Content-Type': 'application/json'})"
   ]
  },
  {
   "cell_type": "code",
   "execution_count": 20,
   "metadata": {},
   "outputs": [
    {
     "name": "stdout",
     "output_type": "stream",
     "text": [
      "{\n",
      "  \"labelAnnotations\": [\n",
      "    {\n",
      "      \"mid\": \"/m/015p6\",\n",
      "      \"description\": \"Bird\",\n",
      "      \"score\": 0.97142184,\n",
      "      \"topicality\": 0.97142184\n",
      "    },\n",
      "    {\n",
      "      \"mid\": \"/m/0838f\",\n",
      "      \"description\": \"Water\",\n",
      "      \"score\": 0.9512578,\n",
      "      \"topicality\": 0.9512578\n",
      "    },\n",
      "    {\n",
      "      \"mid\": \"/m/01pqfw\",\n",
      "      \"description\": \"European herring gull\",\n",
      "      \"score\": 0.94956875,\n",
      "      \"topicality\": 0.94956875\n",
      "    },\n",
      "    {\n",
      "      \"mid\": \"/m/04hjj1\",\n",
      "      \"description\": \"Western Gull\",\n",
      "      \"score\": 0.94671553,\n",
      "      \"topicality\": 0.94671553\n",
      "    },\n",
      "    {\n",
      "      \"mid\": \"/m/01dwxx\",\n",
      "      \"description\": \"Gull\",\n",
      "      \"score\": 0.91513985,\n",
      "      \"topicality\": 0.91513985\n",
      "    }\n",
      "  ]\n",
      "}\n"
     ]
    }
   ],
   "source": [
    "for idx, resp in enumerate(response.json()['responses']):\n",
    "    print(json.dumps(resp, indent=2))"
   ]
  },
  {
   "cell_type": "markdown",
   "metadata": {},
   "source": [
    "- 教科書と出力結果が違うから、多分精度が上がっているということなのでしょう。"
   ]
  },
  {
   "cell_type": "code",
   "execution_count": null,
   "metadata": {},
   "outputs": [],
   "source": []
  }
 ],
 "metadata": {
  "kernelspec": {
   "display_name": "Python 3",
   "language": "python",
   "name": "python3"
  },
  "language_info": {
   "codemirror_mode": {
    "name": "ipython",
    "version": 3
   },
   "file_extension": ".py",
   "mimetype": "text/x-python",
   "name": "python",
   "nbconvert_exporter": "python",
   "pygments_lexer": "ipython3",
   "version": "3.6.8"
  }
 },
 "nbformat": 4,
 "nbformat_minor": 2
}
